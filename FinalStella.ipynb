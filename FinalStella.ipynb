{
 "cells": [
  {
   "cell_type": "code",
   "execution_count": 5,
   "id": "7efd7c53-a992-448c-8bb8-b600666d36a1",
   "metadata": {},
   "outputs": [],
   "source": [
    "import random\n",
    "import time\n",
    "\n",
    "def Go_to_Casino():\n",
    "    \n",
    "    #Please follow all the rules, I did not have enough sanity left after doing this to create proper error protocol for any\n",
    "    #of the places you can enter a choice, so if it wrongly inputted the game will just continue other than the first part\n",
    "    #Also Bersu and I worked jointly on this project, so our code will have very similar logic\n",
    "    #Hopefully you like this\n",
    "    #:) \n",
    "\n",
    "    print('-' * 50)\n",
    "    print(\"Welcome to Stella's Casino\\nMaybe You WIN or Maybe You LOSE\\nBut Either Way the House ALWAYS Wins\")\n",
    "    print('-' * 50)\n",
    "\n",
    "    initial_balance = 1000\n",
    "\n",
    "    print(\"Excellent. Let's start with a Balance of 1000.\")\n",
    "    print('-' * 50)\n",
    "    print(\"You Have 2 Min to Play\\nRun Over the Time and You Lose\")\n",
    "    print('-' * 50)\n",
    "    \n",
    "    keep_going = True\n",
    "    gains = []\n",
    "    \n",
    "    TIME_LIMIT = 120\n",
    "    start_time = time.time()\n",
    "\n",
    "    while keep_going:\n",
    "        bet_is_valid = False\n",
    "        while bet_is_valid is not True:\n",
    "            try:\n",
    "                bet = float(input('How much money do you want to bet on this single roulette turn?   '))\n",
    "                if bet <= initial_balance + sum(gains) and bet > 0:\n",
    "                    bet_is_valid = True\n",
    "                else:\n",
    "                    print(\"You can't bet 0, negative amount of money or money that you don't have !\")\n",
    "            except ValueError:\n",
    "                print('Please enter a valid number.')\n",
    "        elapsed_time = time.time()-start_time\n",
    "        if elapsed_time>TIME_LIMIT:\n",
    "            print(\"Time Limit Exceeded. YOU LOSE\")\n",
    "            balance_final=0\n",
    "            print(f\"Your Balance is {balance_final}\")\n",
    "            break\n",
    "        else:\n",
    "            print(f\"Elapsed Time: {elapsed_time} seconds\")\n",
    "    \n",
    "        randAN=random.randint(1, 36)\n",
    "    \n",
    "   \n",
    "        nullquestion=str(input(\"Do You Want to Bet:(Type the Number Option)\\n1.A color\\n2.A number\\n>\"))\n",
    "        if nullquestion.startswith(\"1\"):\n",
    "            print(\"Pick a Color:  (Type the Number Option)\\n1.Black\\n2.Red\")\n",
    "            usernumber=[]\n",
    "            inpp=str(input(\">\"))\n",
    "            if inpp==\"1\":\n",
    "                print(\"You Bet Black\")\n",
    "                usernumbers=[2,4,6,8,10,12,14,16,18,20,22,24,26,28,30,32,34,36]\n",
    "                if randAN in usernumbers:\n",
    "                    print(\"\\u2764\\uFE0F\",\"\\u2764\\uFE0F\",\"\\u2764\\uFE0F\",\"\\u2764\\uFE0F\",\"\\u2764\\uFE0F\",\"You Won!\")\n",
    "                    gain = bet * 2\n",
    "            \n",
    "                elif randAN not in usernumbers:\n",
    "                    print(\"\\U0001F612\",\"\\U0001F612\",\"\\U0001F612\",\"\\U0001F612\",\"\\U0001F612\",\"You Lost\")\n",
    "                    gain = -bet \n",
    "                \n",
    "            elif inpp==\"2\":\n",
    "                print(\"You Bet Red\")\n",
    "                usernumbers=[1,3,5,7,9,11,13,15,17,19,21,23,25,27,29,31,33,35]\n",
    "                if randAN in usernumbers:\n",
    "                    print(\"\\u2764\\uFE0F\",\"\\u2764\\uFE0F\",\"\\u2764\\uFE0F\",\"\\u2764\\uFE0F\",\"\\u2764\\uFE0F\",\"You Won!\")\n",
    "                    gain = bet*2\n",
    "                \n",
    "                elif randAN not in usernumbers:\n",
    "                    print(\"\\U0001F612\",\"\\U0001F612\",\"\\U0001F612\",\"\\U0001F612\",\"\\U0001F612\",\"You Lost\")\n",
    "                    gain = -bet\n",
    "                \n",
    "            else:\n",
    "                print(\"INVALID BET\\nYou Lose if You Don't Follow the Rules\\nStart Again\")\n",
    "            \n",
    "        elif nullquestion.startswith(\"2\"):\n",
    "            question=int(input(\"Enter the Number You Want to Bet: 1-36\"))\n",
    "            if question == randAN:\n",
    "                print(\"\\u2764\\uFE0F\",\"\\u2764\\uFE0F\",\"\\u2764\\uFE0F\",\"\\u2764\\uFE0F\",\"\\u2764\\uFE0F\",\"You Won\")\n",
    "                gain = bet*35\n",
    "            else:\n",
    "                print(\"\\U0001F612\",\"\\U0001F612\",\"\\U0001F612\",\"\\U0001F612\",\"\\U0001F612\"\"You Lost\")\n",
    "                gain = -bet\n",
    "       \n",
    "\n",
    "\n",
    "        if gain > 0:\n",
    "            print('You won', gain)\n",
    "            gains.append(gain)\n",
    "\n",
    "        else:\n",
    "            print('You loss', -gain)\n",
    "            gains.append(gain)\n",
    "\n",
    "        balance_final = initial_balance + sum(gains)\n",
    "        print('Your balance is now', balance_final)\n",
    "\n",
    "        if balance_final == 0:\n",
    "            print('-' * 50)\n",
    "            print('Sorry. You are bankrupt.')\n",
    "            break\n",
    "\n",
    "        replay_is_valid = False\n",
    "        \n",
    "    \n",
    "\n",
    "        while not replay_is_valid :\n",
    "            replay = input('Do you want to play again ? Type yes or no :)')\n",
    "            if replay == 'no':\n",
    "                keep_going = False\n",
    "                print('-' * 50)\n",
    "                print('Initial balance:', initial_balance)\n",
    "                if gain <=0:\n",
    "                    print('Loss: ', -sum(gains))\n",
    "                else:\n",
    "                    print('Gain: ', sum(gains))\n",
    "                \n",
    "            \n",
    "                print('Final Balance:', balance_final)\n",
    "                print('-' * 50)\n",
    "                print('Come Back Soon Now!')\n",
    "                break\n",
    "            elif replay == 'yes' or replay == 'no':\n",
    "                replay_is_valid = True\n",
    "            elif replay == 'yes':\n",
    "                keep_going = True\n",
    "\n",
    "            else:\n",
    "                print('Just enter yes or no.')"
   ]
  },
  {
   "cell_type": "code",
   "execution_count": 6,
   "id": "07d45257-5572-4535-af6d-f68d51d3c8d3",
   "metadata": {},
   "outputs": [
    {
     "name": "stdout",
     "output_type": "stream",
     "text": [
      "--------------------------------------------------\n",
      "Welcome to Stella's Casino\n",
      "Maybe You WIN or Maybe You LOSE\n",
      "But Either Way the House ALWAYS Wins\n",
      "--------------------------------------------------\n",
      "Excellent. Let's start with a Balance of 1000.\n",
      "--------------------------------------------------\n",
      "You Have 2 Min to Play\n",
      "Run Over the Time and You Lose\n",
      "--------------------------------------------------\n"
     ]
    },
    {
     "name": "stdin",
     "output_type": "stream",
     "text": [
      "How much money do you want to bet on this single roulette turn?    50\n"
     ]
    },
    {
     "name": "stdout",
     "output_type": "stream",
     "text": [
      "Elapsed Time: 7.706647634506226 seconds\n"
     ]
    },
    {
     "name": "stdin",
     "output_type": "stream",
     "text": [
      "Do You Want to Bet:(Type the Number Option)\n",
      "1.A color\n",
      "2.A number\n",
      "> 22\n",
      "Enter the Number You Want to Bet: 1-36 22\n"
     ]
    },
    {
     "name": "stdout",
     "output_type": "stream",
     "text": [
      "😒 😒 😒 😒 😒You Lost\n",
      "You loss 50.0\n",
      "Your balance is now 950.0\n"
     ]
    },
    {
     "name": "stdin",
     "output_type": "stream",
     "text": [
      "Do you want to play again ? Type yes or no :) yes\n",
      "How much money do you want to bet on this single roulette turn?    500\n"
     ]
    },
    {
     "name": "stdout",
     "output_type": "stream",
     "text": [
      "Elapsed Time: 39.608755111694336 seconds\n"
     ]
    },
    {
     "name": "stdin",
     "output_type": "stream",
     "text": [
      "Do You Want to Bet:(Type the Number Option)\n",
      "1.A color\n",
      "2.A number\n",
      "> 1\n"
     ]
    },
    {
     "name": "stdout",
     "output_type": "stream",
     "text": [
      "Pick a Color:  (Type the Number Option)\n",
      "1.Black\n",
      "2.Red\n"
     ]
    },
    {
     "name": "stdin",
     "output_type": "stream",
     "text": [
      "> 1\n"
     ]
    },
    {
     "name": "stdout",
     "output_type": "stream",
     "text": [
      "You Bet Black\n",
      "😒 😒 😒 😒 😒 You Lost\n",
      "You loss 500.0\n",
      "Your balance is now 450.0\n"
     ]
    },
    {
     "name": "stdin",
     "output_type": "stream",
     "text": [
      "Do you want to play again ? Type yes or no :) yes\n",
      "How much money do you want to bet on this single roulette turn?    450\n"
     ]
    },
    {
     "name": "stdout",
     "output_type": "stream",
     "text": [
      "Elapsed Time: 67.47062087059021 seconds\n"
     ]
    },
    {
     "name": "stdin",
     "output_type": "stream",
     "text": [
      "Do You Want to Bet:(Type the Number Option)\n",
      "1.A color\n",
      "2.A number\n",
      "> 1\n"
     ]
    },
    {
     "name": "stdout",
     "output_type": "stream",
     "text": [
      "Pick a Color:  (Type the Number Option)\n",
      "1.Black\n",
      "2.Red\n"
     ]
    },
    {
     "name": "stdin",
     "output_type": "stream",
     "text": [
      "> 1\n"
     ]
    },
    {
     "name": "stdout",
     "output_type": "stream",
     "text": [
      "You Bet Black\n",
      "❤️ ❤️ ❤️ ❤️ ❤️ You Won!\n",
      "You won 900.0\n",
      "Your balance is now 1350.0\n"
     ]
    },
    {
     "name": "stdin",
     "output_type": "stream",
     "text": [
      "Do you want to play again ? Type yes or no :) no\n"
     ]
    },
    {
     "name": "stdout",
     "output_type": "stream",
     "text": [
      "--------------------------------------------------\n",
      "Initial balance: 1000\n",
      "Gain:  350.0\n",
      "Final Balance: 1350.0\n",
      "--------------------------------------------------\n",
      "Come Back Soon Now!\n"
     ]
    }
   ],
   "source": [
    "Go_to_Casino()"
   ]
  },
  {
   "cell_type": "code",
   "execution_count": null,
   "id": "e6d55198-943d-4b6d-95bc-43446d4b7b4d",
   "metadata": {},
   "outputs": [],
   "source": []
  }
 ],
 "metadata": {
  "kernelspec": {
   "display_name": "Python 3 (ipykernel)",
   "language": "python",
   "name": "python3"
  },
  "language_info": {
   "codemirror_mode": {
    "name": "ipython",
    "version": 3
   },
   "file_extension": ".py",
   "mimetype": "text/x-python",
   "name": "python",
   "nbconvert_exporter": "python",
   "pygments_lexer": "ipython3",
   "version": "3.11.1"
  }
 },
 "nbformat": 4,
 "nbformat_minor": 5
}
